{
 "cells": [
  {
   "cell_type": "code",
   "execution_count": 2,
   "metadata": {},
   "outputs": [
    {
     "name": "stdout",
     "output_type": "stream",
     "text": [
      "Traceback (most recent call last):\r\n",
      "  File \"/Users/chambbj/miniconda2/bin/jupyter-nbextension\", line 6, in <module>\r\n",
      "    sys.exit(notebook.nbextensions.main())\r\n",
      "  File \"/Users/chambbj/miniconda2/lib/python2.7/site-packages/jupyter_core/application.py\", line 267, in launch_instance\r\n",
      "    return super(JupyterApp, cls).launch_instance(argv=argv, **kwargs)\r\n",
      "  File \"/Users/chambbj/miniconda2/lib/python2.7/site-packages/traitlets/config/application.py\", line 658, in launch_instance\r\n",
      "    app.start()\r\n",
      "  File \"/Users/chambbj/miniconda2/lib/python2.7/site-packages/notebook/nbextensions.py\", line 900, in start\r\n",
      "    super(NBExtensionApp, self).start()\r\n",
      "  File \"/Users/chambbj/miniconda2/lib/python2.7/site-packages/jupyter_core/application.py\", line 256, in start\r\n",
      "    self.subapp.start()\r\n",
      "  File \"/Users/chambbj/miniconda2/lib/python2.7/site-packages/notebook/nbextensions.py\", line 808, in start\r\n",
      "    self.toggle_nbextension_python(self.extra_args[0])\r\n",
      "  File \"/Users/chambbj/miniconda2/lib/python2.7/site-packages/notebook/nbextensions.py\", line 784, in toggle_nbextension_python\r\n",
      "    logger=self.log)\r\n",
      "  File \"/Users/chambbj/miniconda2/lib/python2.7/site-packages/notebook/nbextensions.py\", line 445, in enable_nbextension_python\r\n",
      "    logger=logger)\r\n",
      "  File \"/Users/chambbj/miniconda2/lib/python2.7/site-packages/notebook/nbextensions.py\", line 360, in _set_nbextension_state_python\r\n",
      "    m, nbexts = _get_nbextension_metadata(module)\r\n",
      "  File \"/Users/chambbj/miniconda2/lib/python2.7/site-packages/notebook/nbextensions.py\", line 1034, in _get_nbextension_metadata\r\n",
      "    m = import_item(module)\r\n",
      "  File \"/Users/chambbj/miniconda2/lib/python2.7/site-packages/traitlets/utils/importstring.py\", line 42, in import_item\r\n",
      "    return __import__(parts[0])\r\n",
      "ImportError: No module named ipyleafley\r\n"
     ]
    }
   ],
   "source": [
    "!jupyter nbextension enable --py --sys-prefix ipyleafley"
   ]
  },
  {
   "cell_type": "code",
   "execution_count": 3,
   "metadata": {},
   "outputs": [],
   "source": [
    "from ipyleaflet import Map"
   ]
  },
  {
   "cell_type": "code",
   "execution_count": 5,
   "metadata": {},
   "outputs": [
    {
     "data": {
      "text/plain": [
       "2"
      ]
     },
     "execution_count": 5,
     "metadata": {},
     "output_type": "execute_result"
    }
   ],
   "source": [
    "import json\n",
    "with open('./bf.geojson') as f:\n",
    "    data = json.load(f)\n",
    "len(data['features'])"
   ]
  },
  {
   "cell_type": "code",
   "execution_count": 6,
   "metadata": {},
   "outputs": [
    {
     "ename": "NameError",
     "evalue": "name 'm' is not defined",
     "output_type": "error",
     "traceback": [
      "\u001b[0;31m---------------------------------------------------------------------------\u001b[0m",
      "\u001b[0;31mNameError\u001b[0m                                 Traceback (most recent call last)",
      "\u001b[0;32m<ipython-input-6-204efc0f263a>\u001b[0m in \u001b[0;36m<module>\u001b[0;34m()\u001b[0m\n\u001b[1;32m      1\u001b[0m \u001b[0;32mfrom\u001b[0m \u001b[0mipyleaflet\u001b[0m \u001b[0;32mimport\u001b[0m \u001b[0mGeoJSON\u001b[0m\u001b[0;34m\u001b[0m\u001b[0m\n\u001b[1;32m      2\u001b[0m \u001b[0mg\u001b[0m \u001b[0;34m=\u001b[0m \u001b[0mGeoJSON\u001b[0m\u001b[0;34m(\u001b[0m\u001b[0mdata\u001b[0m\u001b[0;34m=\u001b[0m\u001b[0mdata\u001b[0m\u001b[0;34m)\u001b[0m\u001b[0;34m\u001b[0m\u001b[0m\n\u001b[0;32m----> 3\u001b[0;31m \u001b[0mm\u001b[0m\u001b[0;34m.\u001b[0m\u001b[0madd_layer\u001b[0m\u001b[0;34m(\u001b[0m\u001b[0mg\u001b[0m\u001b[0;34m)\u001b[0m\u001b[0;34m\u001b[0m\u001b[0m\n\u001b[0m\u001b[1;32m      4\u001b[0m \u001b[0mm\u001b[0m\u001b[0;34m\u001b[0m\u001b[0m\n",
      "\u001b[0;31mNameError\u001b[0m: name 'm' is not defined"
     ]
    }
   ],
   "source": [
    "from ipyleaflet import GeoJSON\n",
    "g = GeoJSON(data=data)\n",
    "m.add_layer(g)\n",
    "m"
   ]
  },
  {
   "cell_type": "code",
   "execution_count": null,
   "metadata": {
    "collapsed": true
   },
   "outputs": [],
   "source": [
    "m=Map([34.6252978589571, -77.34580993652344], zoom=10)"
   ]
  }
 ],
 "metadata": {
  "kernelspec": {
   "display_name": "Python 2",
   "language": "python",
   "name": "python2"
  },
  "language_info": {
   "codemirror_mode": {
    "name": "ipython",
    "version": 2
   },
   "file_extension": ".py",
   "mimetype": "text/x-python",
   "name": "python",
   "nbconvert_exporter": "python",
   "pygments_lexer": "ipython2",
   "version": "2.7.13"
  }
 },
 "nbformat": 4,
 "nbformat_minor": 2
}
