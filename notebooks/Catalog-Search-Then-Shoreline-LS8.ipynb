{
 "cells": [
  {
   "cell_type": "markdown",
   "metadata": {},
   "source": [
    "Install all the things."
   ]
  },
  {
   "cell_type": "code",
   "execution_count": 1,
   "metadata": {},
   "outputs": [
    {
     "name": "stdout",
     "output_type": "stream",
     "text": [
      "Requirement already satisfied: shapely in /Users/chambbj/miniconda2/lib/python2.7/site-packages\n",
      "Fetching package metadata ...........\n",
      "Solving package specifications: .\n",
      "\n",
      "# All requested packages already installed.\n",
      "# packages in environment at /Users/chambbj/miniconda2/envs/dg-shoreline-task-notebook:\n",
      "#\n",
      "fiona                     1.7.0                    py27_0  \n",
      "Requirement already satisfied: fiona in /Users/chambbj/miniconda2/lib/python2.7/site-packages\n",
      "Requirement already satisfied: cligj in /Users/chambbj/miniconda2/lib/python2.7/site-packages (from fiona)\n",
      "Requirement already satisfied: click-plugins in /Users/chambbj/miniconda2/lib/python2.7/site-packages (from fiona)\n",
      "Requirement already satisfied: enum34 in /Users/chambbj/miniconda2/lib/python2.7/site-packages (from fiona)\n",
      "Requirement already satisfied: munch in /Users/chambbj/miniconda2/lib/python2.7/site-packages (from fiona)\n",
      "Requirement already satisfied: six in /Users/chambbj/miniconda2/lib/python2.7/site-packages (from fiona)\n",
      "Requirement already satisfied: click>=4.0 in /Users/chambbj/miniconda2/lib/python2.7/site-packages (from cligj->fiona)\n",
      "Requirement already satisfied: gbdxtools in /Users/chambbj/miniconda2/lib/python2.7/site-packages\n",
      "Requirement already satisfied: pyproj in /Users/chambbj/miniconda2/lib/python2.7/site-packages (from gbdxtools)\n",
      "Requirement already satisfied: requests==2.12.1 in /Users/chambbj/miniconda2/lib/python2.7/site-packages (from gbdxtools)\n",
      "Requirement already satisfied: gbdx-auth==0.2.4 in /Users/chambbj/miniconda2/lib/python2.7/site-packages (from gbdxtools)\n",
      "Requirement already satisfied: six==1.10.0 in /Users/chambbj/miniconda2/lib/python2.7/site-packages (from gbdxtools)\n",
      "Requirement already satisfied: rasterio>=1.0a3 in /Users/chambbj/miniconda2/lib/python2.7/site-packages (from gbdxtools)\n",
      "Requirement already satisfied: dask==0.13.0 in /Users/chambbj/miniconda2/lib/python2.7/site-packages (from gbdxtools)\n",
      "Requirement already satisfied: pycurl in /Users/chambbj/miniconda2/lib/python2.7/site-packages (from gbdxtools)\n",
      "Requirement already satisfied: pygeoif==0.6 in /Users/chambbj/miniconda2/lib/python2.7/site-packages (from gbdxtools)\n",
      "Requirement already satisfied: numpy in /Users/chambbj/miniconda2/lib/python2.7/site-packages (from gbdxtools)\n",
      "Requirement already satisfied: boto==2.39.0 in /Users/chambbj/miniconda2/lib/python2.7/site-packages (from gbdxtools)\n",
      "Requirement already satisfied: geomet==0.1.1 in /Users/chambbj/miniconda2/lib/python2.7/site-packages (from gbdxtools)\n",
      "Requirement already satisfied: future==0.15.2 in /Users/chambbj/miniconda2/lib/python2.7/site-packages (from gbdxtools)\n",
      "Requirement already satisfied: shapely in /Users/chambbj/miniconda2/lib/python2.7/site-packages (from gbdxtools)\n",
      "Requirement already satisfied: cloudpickle in /Users/chambbj/miniconda2/lib/python2.7/site-packages (from gbdxtools)\n",
      "Requirement already satisfied: toolz in /Users/chambbj/miniconda2/lib/python2.7/site-packages (from gbdxtools)\n",
      "Requirement already satisfied: ndg-httpsclient==0.4.2 in /Users/chambbj/miniconda2/lib/python2.7/site-packages (from gbdxtools)\n",
      "Requirement already satisfied: ephem in /Users/chambbj/miniconda2/lib/python2.7/site-packages (from gbdxtools)\n",
      "Requirement already satisfied: requests-oauthlib==0.8.0 in /Users/chambbj/miniconda2/lib/python2.7/site-packages (from gbdx-auth==0.2.4->gbdxtools)\n",
      "Requirement already satisfied: PyJWT==1.4.2 in /Users/chambbj/miniconda2/lib/python2.7/site-packages (from gbdx-auth==0.2.4->gbdxtools)\n",
      "Requirement already satisfied: oauthlib==2.0.2 in /Users/chambbj/miniconda2/lib/python2.7/site-packages (from gbdx-auth==0.2.4->gbdxtools)\n",
      "Requirement already satisfied: snuggs>=1.4.1 in /Users/chambbj/miniconda2/lib/python2.7/site-packages (from rasterio>=1.0a3->gbdxtools)\n",
      "Requirement already satisfied: enum34 in /Users/chambbj/miniconda2/lib/python2.7/site-packages (from rasterio>=1.0a3->gbdxtools)\n",
      "Requirement already satisfied: click-plugins in /Users/chambbj/miniconda2/lib/python2.7/site-packages (from rasterio>=1.0a3->gbdxtools)\n",
      "Requirement already satisfied: affine in /Users/chambbj/miniconda2/lib/python2.7/site-packages (from rasterio>=1.0a3->gbdxtools)\n",
      "Requirement already satisfied: cligj in /Users/chambbj/miniconda2/lib/python2.7/site-packages (from rasterio>=1.0a3->gbdxtools)\n",
      "Requirement already satisfied: click in /Users/chambbj/miniconda2/lib/python2.7/site-packages (from geomet==0.1.1->gbdxtools)\n",
      "Requirement already satisfied: PyOpenSSL in /Users/chambbj/miniconda2/lib/python2.7/site-packages (from ndg-httpsclient==0.4.2->gbdxtools)\n",
      "Requirement already satisfied: pyparsing in /Users/chambbj/miniconda2/lib/python2.7/site-packages (from snuggs>=1.4.1->rasterio>=1.0a3->gbdxtools)\n",
      "Requirement already satisfied: cryptography>=1.3.4 in /Users/chambbj/miniconda2/lib/python2.7/site-packages (from PyOpenSSL->ndg-httpsclient==0.4.2->gbdxtools)\n",
      "Requirement already satisfied: idna>=2.0 in /Users/chambbj/miniconda2/lib/python2.7/site-packages (from cryptography>=1.3.4->PyOpenSSL->ndg-httpsclient==0.4.2->gbdxtools)\n",
      "Requirement already satisfied: pyasn1>=0.1.8 in /Users/chambbj/miniconda2/lib/python2.7/site-packages (from cryptography>=1.3.4->PyOpenSSL->ndg-httpsclient==0.4.2->gbdxtools)\n",
      "Requirement already satisfied: setuptools>=11.3 in /Users/chambbj/miniconda2/lib/python2.7/site-packages (from cryptography>=1.3.4->PyOpenSSL->ndg-httpsclient==0.4.2->gbdxtools)\n",
      "Requirement already satisfied: ipaddress in /Users/chambbj/miniconda2/lib/python2.7/site-packages (from cryptography>=1.3.4->PyOpenSSL->ndg-httpsclient==0.4.2->gbdxtools)\n",
      "Requirement already satisfied: cffi>=1.4.1 in /Users/chambbj/miniconda2/lib/python2.7/site-packages (from cryptography>=1.3.4->PyOpenSSL->ndg-httpsclient==0.4.2->gbdxtools)\n",
      "Requirement already satisfied: appdirs>=1.4.0 in /Users/chambbj/miniconda2/lib/python2.7/site-packages (from setuptools>=11.3->cryptography>=1.3.4->PyOpenSSL->ndg-httpsclient==0.4.2->gbdxtools)\n",
      "Requirement already satisfied: packaging>=16.8 in /Users/chambbj/miniconda2/lib/python2.7/site-packages (from setuptools>=11.3->cryptography>=1.3.4->PyOpenSSL->ndg-httpsclient==0.4.2->gbdxtools)\n",
      "Requirement already satisfied: pycparser in /Users/chambbj/miniconda2/lib/python2.7/site-packages (from cffi>=1.4.1->cryptography>=1.3.4->PyOpenSSL->ndg-httpsclient==0.4.2->gbdxtools)\n"
     ]
    }
   ],
   "source": [
    "!pip install shapely\n",
    "!conda install --yes --quiet fiona\n",
    "!pip install fiona\n",
    "!pip install gbdxtools"
   ]
  },
  {
   "cell_type": "markdown",
   "metadata": {},
   "source": [
    "And then all the imports and such."
   ]
  },
  {
   "cell_type": "code",
   "execution_count": 2,
   "metadata": {
    "collapsed": true
   },
   "outputs": [],
   "source": [
    "from shapely.geometry import shape\n",
    "from gbdxtools import Interface\n",
    "from shapely.geometry import MultiPolygon\n",
    "from shapely.wkt import loads\n",
    "from shapely.ops import cascaded_union\n",
    "import dateutil.parser\n",
    "from datetime import datetime\n",
    "import uuid\n",
    "from os.path import join\n",
    "import time\n",
    "import sys\n",
    "from __future__ import print_function\n",
    "import fiona\n",
    "import json"
   ]
  },
  {
   "cell_type": "markdown",
   "metadata": {},
   "source": [
    "Load the shapefile, get one of the polygons, and convert to shape."
   ]
  },
  {
   "cell_type": "code",
   "execution_count": 3,
   "metadata": {},
   "outputs": [
    {
     "data": {
      "image/svg+xml": [
       "<svg xmlns=\"http://www.w3.org/2000/svg\" xmlns:xlink=\"http://www.w3.org/1999/xlink\" width=\"100.0\" height=\"100.0\" viewBox=\"-17.478598 14.626402 0.185436 0.130436\" preserveAspectRatio=\"xMinYMin meet\"><g transform=\"matrix(1,0,0,-1,0,29.38324)\"><path fill-rule=\"evenodd\" fill=\"#66cc99\" stroke=\"#555555\" stroke-width=\"0.00370872\" opacity=\"0.6\" d=\"M -17.46873,14.63327 L -17.47173,14.63327 L -17.47173,14.63787 L -17.47173,14.64397 L -17.47173,14.64727 L -17.47173,14.65127 L -17.47173,14.65717 L -17.47173,14.66507 L -17.47173,14.67297 L -17.47173,14.67727 L -17.47173,14.68277 L -17.47173,14.68637 L -17.47173,14.69277 L -17.47173,14.69727 L -17.47173,14.70117 L -17.47173,14.71527 L -17.47173,14.72657 L -17.47173,14.73217 L -17.47173,14.73957 L -17.47173,14.74497 L -17.47173,14.74997 L -17.30003,14.74997 L -17.30003,14.74107 L -17.30003,14.73057 L -17.30003,14.71867 L -17.30003,14.71227 L -17.30003,14.70907 L -17.30003,14.70317 L -17.30003,14.67707 L -17.30003,14.63327 L -17.33693,14.63327 L -17.39703,14.63327 L -17.41233,14.63327 L -17.41803,14.63327 L -17.42413,14.63327 L -17.43143,14.63327 L -17.45423,14.63327 L -17.46873,14.63327 z\" /></g></svg>"
      ],
      "text/plain": [
       "<shapely.geometry.polygon.Polygon at 0x110678150>"
      ]
     },
     "execution_count": 3,
     "metadata": {},
     "output_type": "execute_result"
    }
   ],
   "source": [
    "c = fiona.open('/Users/chambbj/Downloads/(U) Harbors_Beachfront_Apr2017/Harbors_Priority_Beachfront.shp')\n",
    "pol = next(iter(c))\n",
    "geom = shape(pol['geometry'])\n",
    "geom"
   ]
  },
  {
   "cell_type": "markdown",
   "metadata": {},
   "source": [
    "Create our GBDX interface."
   ]
  },
  {
   "cell_type": "code",
   "execution_count": 4,
   "metadata": {
    "collapsed": true
   },
   "outputs": [],
   "source": [
    "gbdx = Interface()"
   ]
  },
  {
   "cell_type": "markdown",
   "metadata": {},
   "source": [
    "Create a multipolygon of all the polys, but I don't appear to actually use this anywhere."
   ]
  },
  {
   "cell_type": "code",
   "execution_count": 5,
   "metadata": {
    "collapsed": true
   },
   "outputs": [],
   "source": [
    "Multi = MultiPolygon([shape(pol['geometry']) for pol in c])"
   ]
  },
  {
   "cell_type": "markdown",
   "metadata": {},
   "source": [
    "Show that we can get the WKT of the geometry."
   ]
  },
  {
   "cell_type": "code",
   "execution_count": 6,
   "metadata": {},
   "outputs": [
    {
     "data": {
      "text/plain": [
       "'POLYGON ((-17.46872999999994 14.63327000000004, -17.47172999999998 14.63327000000004, -17.47172999999998 14.63787000000008, -17.47172999999998 14.64397000000002, -17.47172999999998 14.64727000000005, -17.47172999999998 14.65127000000007, -17.47172999999998 14.65717000000006, -17.47172999999998 14.66507000000007, -17.47172999999998 14.67297000000008, -17.47172999999998 14.67727000000002, -17.47172999999998 14.68277000000006, -17.47172999999998 14.68637000000007, -17.47172999999998 14.69277000000005, -17.47172999999998 14.69727000000006, -17.47172999999998 14.70117000000005, -17.47172999999998 14.71527000000003, -17.47172999999998 14.72657000000004, -17.47172999999998 14.73217000000005, -17.47172999999998 14.73957000000007, -17.47172999999998 14.74497000000002, -17.47172999999998 14.74997000000008, -17.30002999999994 14.74997000000008, -17.30002999999994 14.74107000000004, -17.30002999999994 14.73057000000006, -17.30002999999994 14.71867000000003, -17.30002999999994 14.71227000000005, -17.30002999999994 14.70907000000005, -17.30002999999994 14.70317000000006, -17.30002999999994 14.67707000000007, -17.30002999999994 14.63327000000004, -17.33692999999994 14.63327000000004, -17.39702999999997 14.63327000000004, -17.41232999999994 14.63327000000004, -17.41802999999993 14.63327000000004, -17.42412999999993 14.63327000000004, -17.43142999999998 14.63327000000004, -17.45422999999994 14.63327000000004, -17.46872999999994 14.63327000000004))'"
      ]
     },
     "execution_count": 6,
     "metadata": {},
     "output_type": "execute_result"
    }
   ],
   "source": [
    "geom.wkt"
   ]
  },
  {
   "cell_type": "markdown",
   "metadata": {},
   "source": [
    "Create a filter (WV2 with cloud cover less than 10%), and search the catalog."
   ]
  },
  {
   "cell_type": "code",
   "execution_count": 7,
   "metadata": {},
   "outputs": [
    {
     "data": {
      "text/plain": [
       "91"
      ]
     },
     "execution_count": 7,
     "metadata": {},
     "output_type": "execute_result"
    }
   ],
   "source": [
    "filters = [\"cloudCover<10\"]\n",
    "types = [\"LandsatAcquisition\"]\n",
    "results = gbdx.catalog.search(searchAreaWkt=geom.wkt,filters=filters,types=types)\n",
    "len(results)"
   ]
  },
  {
   "cell_type": "markdown",
   "metadata": {},
   "source": [
    "Show that we can get the footprint WKT of the first result."
   ]
  },
  {
   "cell_type": "code",
   "execution_count": 8,
   "metadata": {},
   "outputs": [
    {
     "data": {
      "image/svg+xml": [
       "<svg xmlns=\"http://www.w3.org/2000/svg\" xmlns:xlink=\"http://www.w3.org/1999/xlink\" width=\"100.0\" height=\"100.0\" viewBox=\"-19.343674 13.308276 2.256058 2.285388\" preserveAspectRatio=\"xMinYMin meet\"><g transform=\"matrix(1,0,0,-1,0,28.90194)\"><g><path fill-rule=\"evenodd\" fill=\"#66cc99\" stroke=\"#555555\" stroke-width=\"0.04570776\" opacity=\"0.6\" d=\"M -19.25903,13.39292 L -19.25903,15.50902 L -17.17226,15.50902 L -17.17226,13.39292 L -19.25903,13.39292 z\" /></g></g></svg>"
      ],
      "text/plain": [
       "<shapely.geometry.multipolygon.MultiPolygon at 0x10c09ef90>"
      ]
     },
     "execution_count": 8,
     "metadata": {},
     "output_type": "execute_result"
    }
   ],
   "source": [
    "footprint = loads(results[1]['properties']['footprintWkt'])\n",
    "footprint"
   ]
  },
  {
   "cell_type": "markdown",
   "metadata": {},
   "source": [
    "Get a sense for how the footprint overlaps the query geometry. A percent overlap would be nice too."
   ]
  },
  {
   "cell_type": "code",
   "execution_count": 9,
   "metadata": {},
   "outputs": [
    {
     "data": {
      "image/svg+xml": [
       "<svg xmlns=\"http://www.w3.org/2000/svg\" xmlns:xlink=\"http://www.w3.org/1999/xlink\" width=\"100.0\" height=\"100.0\" viewBox=\"-19.343674 13.308276 2.256058 2.285388\" preserveAspectRatio=\"xMinYMin meet\"><g transform=\"matrix(1,0,0,-1,0,28.90194)\"><g><polyline fill=\"none\" stroke=\"#66cc99\" stroke-width=\"0.04570776\" points=\"-17.46873,14.63327 -17.47173,14.63327 -17.47173,14.63787 -17.47173,14.64397 -17.47173,14.64727 -17.47173,14.65127 -17.47173,14.65717 -17.47173,14.66507 -17.47173,14.67297 -17.47173,14.67727 -17.47173,14.68277 -17.47173,14.68637 -17.47173,14.69277 -17.47173,14.69727 -17.47173,14.70117 -17.47173,14.71527 -17.47173,14.72657 -17.47173,14.73217 -17.47173,14.73957 -17.47173,14.74497 -17.47173,14.74997 -17.30003,14.74997 -17.30003,14.74107 -17.30003,14.73057 -17.30003,14.71867 -17.30003,14.71227 -17.30003,14.70907 -17.30003,14.70317 -17.30003,14.67707 -17.30003,14.63327 -17.33693,14.63327 -17.39703,14.63327 -17.41233,14.63327 -17.41803,14.63327 -17.42413,14.63327 -17.43143,14.63327 -17.45423,14.63327 -17.46873,14.63327\" opacity=\"0.8\" /><polyline fill=\"none\" stroke=\"#66cc99\" stroke-width=\"0.04570776\" points=\"-19.25903,13.39292 -19.25903,15.50902 -17.17226,15.50902 -17.17226,13.39292 -19.25903,13.39292\" opacity=\"0.8\" /></g></g></svg>"
      ],
      "text/plain": [
       "<shapely.geometry.multilinestring.MultiLineString at 0x10c0c18d0>"
      ]
     },
     "execution_count": 9,
     "metadata": {},
     "output_type": "execute_result"
    }
   ],
   "source": [
    "geom.boundary.union(footprint.boundary)"
   ]
  },
  {
   "cell_type": "markdown",
   "metadata": {},
   "source": [
    "And just look at the acquisition metadata for the result."
   ]
  },
  {
   "cell_type": "code",
   "execution_count": 10,
   "metadata": {},
   "outputs": [
    {
     "data": {
      "text/plain": [
       "{u'identifier': u'LC82060502017020LGN00',\n",
       " u'properties': {u'browseURL': u'https://s3-us-west-2.amazonaws.com/landsat-pds/L8/206/050/LC82060502017020LGN00/LC82060502017020LGN00_thumb_large.jpg',\n",
       "  u'bucketName': u'landsat-pds',\n",
       "  u'bucketPrefix': u'L8/206/050/LC82060502017020LGN00',\n",
       "  u'catalogID': u'LC82060502017020LGN00',\n",
       "  u'cloudCover': 0,\n",
       "  u'footprintWkt': u'MULTIPOLYGON(((-19.25903 13.39292, -19.25903 15.50902, -17.17226 15.50902, -17.17226 13.39292, -19.25903 13.39292)))',\n",
       "  u'multiResolution': 30.0,\n",
       "  u'panResolution': 15.0,\n",
       "  u'path': 206,\n",
       "  u'platformName': u'LANDSAT08',\n",
       "  u'row': 50,\n",
       "  u'sensorPlatformName': u'LANDSAT08',\n",
       "  u'timestamp': u'2017-01-20T11:33:46.772Z',\n",
       "  u'vendor': u'Landsat'},\n",
       " u'type': [u'GBDXCatalogRecord',\n",
       "  u'Acquisition',\n",
       "  u'Landsat8',\n",
       "  u'LandsatAcquisition']}"
      ]
     },
     "execution_count": 10,
     "metadata": {},
     "output_type": "execute_result"
    }
   ],
   "source": [
    "results[1]"
   ]
  },
  {
   "cell_type": "markdown",
   "metadata": {},
   "source": [
    "Okay, now we actually get into creating and executing workflows. Here we will start by getting the lat/lon of the footprint centroid, and also the timestamp to be used in predicting tides. We continue by creating a workflow that automatically orders the data, applies atmospheric compensation via AOP, and the performs shoreline detection. We make sure to save the outputs of the final task."
   ]
  },
  {
   "cell_type": "code",
   "execution_count": 36,
   "metadata": {},
   "outputs": [
    {
     "name": "stdout",
     "output_type": "stream",
     "text": [
      "lat=14.450970, lon=-18.215645\n",
      "dtg=\"2017-01-20-11-33\"\n",
      "lat=\"14.45097\", lon=\"-18.215645\", dtg=\"2017-01-20-11-33\"\n"
     ]
    }
   ],
   "source": [
    "cat_id = results[1]['identifier']\n",
    "record = gbdx.catalog.get(cat_id)\n",
    "centroid = loads(record.get('properties').get('footprintWkt')).centroid\n",
    "lat = centroid.y\n",
    "lon = centroid.x\n",
    "print('lat=%f, lon=%f' % (lat, lon))\n",
    "timestamp = dateutil.parser.parse(record.get('properties').get('timestamp'))\n",
    "dtg = datetime.strftime(timestamp, '%Y-%m-%d-%H-%M')\n",
    "print('dtg=\"%s\"' % dtg)\n",
    "print('lat=\"%s\", lon=\"%s\", dtg=\"%s\"' % (str(lat), str(lon), dtg))\n",
    "\n",
    "tide_task = gbdx.Task('ShorelineDetectionLS8_beta',\n",
    "                      lat = str(lat),\n",
    "                      lon = str(lon),\n",
    "                      dtg = dtg,\n",
    "                      meta = json.dumps(results[1]),\n",
    "                      image = gbdx.catalog.get_data_location(cat_id))\n",
    "\n",
    "workflow = gbdx.Workflow([tide_task])\n",
    "random_str = str(uuid.uuid4())\n",
    "workflow.savedata(tide_task.outputs.vector, location=join('some_random_folder', random_str))"
   ]
  },
  {
   "cell_type": "markdown",
   "metadata": {},
   "source": [
    "Execute the workflow."
   ]
  },
  {
   "cell_type": "code",
   "execution_count": 37,
   "metadata": {},
   "outputs": [
    {
     "data": {
      "text/plain": [
       "u'4654236013126946107'"
      ]
     },
     "execution_count": 37,
     "metadata": {},
     "output_type": "execute_result"
    }
   ],
   "source": [
    "workflow.execute()"
   ]
  },
  {
   "cell_type": "markdown",
   "metadata": {},
   "source": [
    "And view the definition for kicks."
   ]
  },
  {
   "cell_type": "code",
   "execution_count": 38,
   "metadata": {},
   "outputs": [
    {
     "data": {
      "text/plain": [
       "{'name': u'3ebe9346',\n",
       " 'tasks': [{'containerDescriptors': [{'properties': {'domain': 'default'}}],\n",
       "   'inputs': [{'name': u'lon', 'value': '-18.215645'},\n",
       "    {'name': u'image',\n",
       "     'value': u's3://landsat-pds/L8/206/050/LC82060502017020LGN00'},\n",
       "    {'name': u'dtg', 'value': '2017-01-20-11-33'},\n",
       "    {'name': u'meta',\n",
       "     'value': '{\"identifier\": \"LC82060502017020LGN00\", \"type\": [\"GBDXCatalogRecord\", \"Acquisition\", \"Landsat8\", \"LandsatAcquisition\"], \"properties\": {\"vendor\": \"Landsat\", \"browseURL\": \"https://s3-us-west-2.amazonaws.com/landsat-pds/L8/206/050/LC82060502017020LGN00/LC82060502017020LGN00_thumb_large.jpg\", \"timestamp\": \"2017-01-20T11:33:46.772Z\", \"bucketPrefix\": \"L8/206/050/LC82060502017020LGN00\", \"footprintWkt\": \"MULTIPOLYGON(((-19.25903 13.39292, -19.25903 15.50902, -17.17226 15.50902, -17.17226 13.39292, -19.25903 13.39292)))\", \"cloudCover\": 0, \"catalogID\": \"LC82060502017020LGN00\", \"bucketName\": \"landsat-pds\", \"sensorPlatformName\": \"LANDSAT08\", \"path\": 206, \"multiResolution\": 30.0, \"platformName\": \"LANDSAT08\", \"panResolution\": 15.0, \"row\": 50}}'},\n",
       "    {'name': u'lat', 'value': '14.45097'}],\n",
       "   'name': u'ShorelineDetectionLS8_beta_f68fece3',\n",
       "   'outputs': [{'name': u'raster'},\n",
       "    {'name': u'vector',\n",
       "     'persist': True,\n",
       "     'persistLocation': 'some_random_folder/c8ce0b29-c65d-4c00-836b-c6038a04e822'}],\n",
       "   'taskType': 'ShorelineDetectionLS8_beta',\n",
       "   'timeout': 7200}]}"
      ]
     },
     "execution_count": 38,
     "metadata": {},
     "output_type": "execute_result"
    }
   ],
   "source": [
    "workflow.definition"
   ]
  },
  {
   "cell_type": "markdown",
   "metadata": {},
   "source": [
    "We can loop until the workflow shows up as complete."
   ]
  },
  {
   "cell_type": "code",
   "execution_count": 39,
   "metadata": {},
   "outputs": [
    {
     "name": "stdout",
     "output_type": "stream",
     "text": [
      "[{\"task\": \"ShorelineDetectionLS8_beta_f68fece3\", \"task_id\": \"4654236013115351807\", \"timestamp\": \"2017-07-31T19:56:08.542825+00:00\", \"when\": \"2 minutes ago\", \"note\": \"\", \"state\": \"pending\", \"event\": \"submitted\"}, {\"task\": \"ShorelineDetectionLS8_beta_f68fece3\", \"task_id\": \"4654236013115351807\", \"timestamp\": \"2017-07-31T19:56:14.236627+00:00\", \"when\": \"2 minutes ago\", \"note\": \"instance_id: i-c92fa74a\", \"state\": \"pending\", \"event\": \"scheduled\"}, {\"task\": \"ShorelineDetectionLS8_beta_f68fece3\", \"task_id\": \"4654236013115351807\", \"timestamp\": \"2017-07-31T19:56:14.492972+00:00\", \"when\": \"2 minutes ago\", \"note\": \"instance_id: i-0fc92ce2adb1dfd39, domain: default\", \"state\": \"running\", \"event\": \"started\"}]\r"
     ]
    },
    {
     "data": {
      "text/plain": [
       "{u'event': u'succeeded', u'state': u'complete'}"
      ]
     },
     "execution_count": 39,
     "metadata": {},
     "output_type": "execute_result"
    }
   ],
   "source": [
    "while not workflow.status.get('state') == u'complete':\n",
    "    print(json.dumps(workflow.events), end='\\r')\n",
    "#     print(datetime.now(), workflow.status, end='\\r')\n",
    "    sys.stdout.flush()\n",
    "    time.sleep(5.0)\n",
    "workflow.status"
   ]
  },
  {
   "cell_type": "code",
   "execution_count": 42,
   "metadata": {},
   "outputs": [
    {
     "data": {
      "text/plain": [
       "[{u'event': u'submitted',\n",
       "  u'note': u'',\n",
       "  u'state': u'pending',\n",
       "  u'task': u'ShorelineDetectionLS8_beta_f68fece3',\n",
       "  u'task_id': u'4654236013115351807',\n",
       "  u'timestamp': u'2017-07-31T19:56:08.542825+00:00',\n",
       "  u'when': u'9 minutes ago'},\n",
       " {u'event': u'scheduled',\n",
       "  u'note': u'instance_id: i-c92fa74a',\n",
       "  u'state': u'pending',\n",
       "  u'task': u'ShorelineDetectionLS8_beta_f68fece3',\n",
       "  u'task_id': u'4654236013115351807',\n",
       "  u'timestamp': u'2017-07-31T19:56:14.236627+00:00',\n",
       "  u'when': u'9 minutes ago'},\n",
       " {u'event': u'started',\n",
       "  u'note': u'instance_id: i-0fc92ce2adb1dfd39, domain: default',\n",
       "  u'state': u'running',\n",
       "  u'task': u'ShorelineDetectionLS8_beta_f68fece3',\n",
       "  u'task_id': u'4654236013115351807',\n",
       "  u'timestamp': u'2017-07-31T19:56:14.492972+00:00',\n",
       "  u'when': u'9 minutes ago'},\n",
       " {u'event': u'succeeded',\n",
       "  u'note': u'instance_id: i-0fc92ce2adb1dfd39,  Note: Successfully created shoreline GeoJSON',\n",
       "  u'state': u'complete',\n",
       "  u'task': u'ShorelineDetectionLS8_beta_f68fece3',\n",
       "  u'task_id': u'4654236013115351807',\n",
       "  u'timestamp': u'2017-07-31T19:58:11.245519+00:00',\n",
       "  u'when': u'7 minutes ago'}]"
      ]
     },
     "execution_count": 42,
     "metadata": {},
     "output_type": "execute_result"
    }
   ],
   "source": [
    "workflow.events"
   ]
  },
  {
   "cell_type": "code",
   "execution_count": 35,
   "metadata": {},
   "outputs": [
    {
     "data": {
      "text/plain": [
       "u's3://landsat-pds/L8/206/050/LC82060502017020LGN00'"
      ]
     },
     "execution_count": 35,
     "metadata": {},
     "output_type": "execute_result"
    }
   ],
   "source": [
    "gbdx.catalog.get_data_location(cat_id)"
   ]
  },
  {
   "cell_type": "markdown",
   "metadata": {},
   "source": [
    "Download the shoreline result."
   ]
  },
  {
   "cell_type": "code",
   "execution_count": 41,
   "metadata": {
    "collapsed": true
   },
   "outputs": [],
   "source": [
    "gbdx.s3.download(join('some_random_folder', random_str))"
   ]
  },
  {
   "cell_type": "code",
   "execution_count": 50,
   "metadata": {},
   "outputs": [
    {
     "name": "stdout",
     "output_type": "stream",
     "text": [
      "lat=14.450970, lon=-18.215645\n",
      "dtg=\"2017-01-20-11-33\"\n",
      "lat=\"14.45097\", lon=\"-18.215645\", dtg=\"2017-01-20-11-33\"\n"
     ]
    }
   ],
   "source": [
    "cat_id = results[1]['identifier']\n",
    "record = gbdx.catalog.get(cat_id)\n",
    "centroid = loads(record.get('properties').get('footprintWkt')).centroid\n",
    "lat = centroid.y\n",
    "lon = centroid.x\n",
    "print('lat=%f, lon=%f' % (lat, lon))\n",
    "timestamp = dateutil.parser.parse(record.get('properties').get('timestamp'))\n",
    "dtg = datetime.strftime(timestamp, '%Y-%m-%d-%H-%M')\n",
    "print('dtg=\"%s\"' % dtg)\n",
    "print('lat=\"%s\", lon=\"%s\", dtg=\"%s\"' % (str(lat), str(lon), dtg))\n",
    "\n",
    "crop_task = gbdx.Task('CropGeotiff',\n",
    "                      data = gbdx.catalog.get_data_location(cat_id),\n",
    "                      wkt = geom.wkt)\n",
    "\n",
    "tide_task = gbdx.Task('ShorelineDetectionLS8_beta',\n",
    "                      lat = str(lat),\n",
    "                      lon = str(lon),\n",
    "                      dtg = dtg,\n",
    "                      meta = json.dumps(results[1]),\n",
    "                      image = crop_task.outputs.data)\n",
    "\n",
    "workflow = gbdx.Workflow([crop_task, tide_task])\n",
    "random_str = str(uuid.uuid4())\n",
    "workflow.savedata(tide_task.outputs.vector, location=join('some_random_folder', random_str))"
   ]
  },
  {
   "cell_type": "code",
   "execution_count": 51,
   "metadata": {},
   "outputs": [
    {
     "data": {
      "text/plain": [
       "u'4654250993114717185'"
      ]
     },
     "execution_count": 51,
     "metadata": {},
     "output_type": "execute_result"
    }
   ],
   "source": [
    "workflow.execute()"
   ]
  },
  {
   "cell_type": "code",
   "execution_count": 52,
   "metadata": {},
   "outputs": [
    {
     "name": "stdout",
     "output_type": "stream",
     "text": [
      "[{\"task\": \"CropGeotiff_b9ac9d93\", \"task_id\": \"4654250993106021225\", \"timestamp\": \"2017-07-31T20:25:54.303200+00:00\", \"when\": \"3 minutes ago\", \"note\": \"\", \"state\": \"pending\", \"event\": \"submitted\"}, {\"task\": \"ShorelineDetectionLS8_beta_6be24583\", \"task_id\": \"4654250993112896847\", \"timestamp\": \"2017-07-31T20:25:54.306402+00:00\", \"when\": \"3 minutes ago\", \"note\": \"\", \"state\": \"pending\", \"event\": \"submitted\"}, {\"task\": \"CropGeotiff_b9ac9d93\", \"task_id\": \"4654250993106021225\", \"timestamp\": \"2017-07-31T20:25:57.900022+00:00\", \"when\": \"3 minutes ago\", \"note\": \"instance_id: i-c92fa74a\", \"state\": \"pending\", \"event\": \"scheduled\"}, {\"task\": \"CropGeotiff_b9ac9d93\", \"task_id\": \"4654250993106021225\", \"timestamp\": \"2017-07-31T20:25:58.149119+00:00\", \"when\": \"3 minutes ago\", \"note\": \"instance_id: i-06350eaafb610cc91, domain: default\", \"state\": \"running\", \"event\": \"started\"}, {\"task\": \"CropGeotiff_b9ac9d93\", \"task_id\": \"4654250993106021225\", \"timestamp\": \"2017-07-31T20:27:44.376009+00:00\", \"when\": \"2 minutes ago\", \"note\": \"instance_id: i-06350eaafb610cc91,  Note: completed\", \"state\": \"complete\", \"event\": \"succeeded\"}, {\"task\": \"ShorelineDetectionLS8_beta_6be24583\", \"task_id\": \"4654250993112896847\", \"timestamp\": \"2017-07-31T20:27:47.004440+00:00\", \"when\": \"2 minutes ago\", \"note\": \"instance_id: i-c92fa74a\", \"state\": \"pending\", \"event\": \"scheduled\"}, {\"task\": \"ShorelineDetectionLS8_beta_6be24583\", \"task_id\": \"4654250993112896847\", \"timestamp\": \"2017-07-31T20:27:47.242912+00:00\", \"when\": \"2 minutes ago\", \"note\": \"instance_id: i-044824558bdc49dd9, domain: default\", \"state\": \"running\", \"event\": \"started\"}]\r"
     ]
    },
    {
     "data": {
      "text/plain": [
       "{u'event': u'succeeded', u'state': u'complete'}"
      ]
     },
     "execution_count": 52,
     "metadata": {},
     "output_type": "execute_result"
    }
   ],
   "source": [
    "while not workflow.status.get('state') == u'complete':\n",
    "    print(json.dumps(workflow.events), end='\\r')\n",
    "#     print(datetime.now(), workflow.status, end='\\r')\n",
    "    sys.stdout.flush()\n",
    "    time.sleep(5.0)\n",
    "workflow.status"
   ]
  },
  {
   "cell_type": "code",
   "execution_count": 53,
   "metadata": {
    "collapsed": true
   },
   "outputs": [],
   "source": [
    "gbdx.s3.download(join('some_random_folder', random_str))"
   ]
  },
  {
   "cell_type": "code",
   "execution_count": 48,
   "metadata": {},
   "outputs": [
    {
     "name": "stdout",
     "output_type": "stream",
     "text": [
      "lat=14.450970, lon=-18.215645\n",
      "dtg=\"2017-01-20-11-33\"\n",
      "lat=\"14.45097\", lon=\"-18.215645\", dtg=\"2017-01-20-11-33\"\n",
      "[{\"task\": \"RasterClip_Extents_44f628e8\", \"task_id\": \"4654247109449272548\", \"timestamp\": \"2017-07-31T20:18:11.336338+00:00\", \"when\": \"2 minutes ago\", \"note\": \"\", \"state\": \"pending\", \"event\": \"submitted\"}, {\"task\": \"ShorelineDetectionLS8_beta_dc21cab1\", \"task_id\": \"4654247109453871651\", \"timestamp\": \"2017-07-31T20:18:11.340038+00:00\", \"when\": \"2 minutes ago\", \"note\": \"\", \"state\": \"pending\", \"event\": \"submitted\"}, {\"task\": \"RasterClip_Extents_44f628e8\", \"task_id\": \"4654247109449272548\", \"timestamp\": \"2017-07-31T20:18:13.075405+00:00\", \"when\": \"2 minutes ago\", \"note\": \"instance_id: i-c92fa74a\", \"state\": \"pending\", \"event\": \"scheduled\"}, {\"task\": \"RasterClip_Extents_44f628e8\", \"task_id\": \"4654247109449272548\", \"timestamp\": \"2017-07-31T20:18:13.217607+00:00\", \"when\": \"2 minutes ago\", \"note\": \"instance_id: i-0331b0774c1df80d8, domain: default\", \"state\": \"running\", \"event\": \"started\"}, {\"task\": \"RasterClip_Extents_44f628e8\", \"task_id\": \"4654247109449272548\", \"timestamp\": \"2017-07-31T20:19:00.450660+00:00\", \"when\": \"2 minutes ago\", \"note\": \"instance_id: i-0331b0774c1df80d8,  Note: ===== Clipped /mnt/work/input/raster/LC82060502017020LGN00_B10.TIF to LC82060502017020LGN00_B10_clip.TIF ======\", \"state\": \"complete\", \"event\": \"succeeded\"}, {\"task\": \"ShorelineDetectionLS8_beta_dc21cab1\", \"task_id\": \"4654247109453871651\", \"timestamp\": \"2017-07-31T20:19:04.697728+00:00\", \"when\": \"a minute ago\", \"note\": \"instance_id: i-c92fa74a\", \"state\": \"pending\", \"event\": \"scheduled\"}, {\"task\": \"ShorelineDetectionLS8_beta_dc21cab1\", \"task_id\": \"4654247109453871651\", \"timestamp\": \"2017-07-31T20:19:04.913560+00:00\", \"when\": \"a minute ago\", \"note\": \"instance_id: i-0724643a2560bf0bf, domain: default\", \"state\": \"running\", \"event\": \"started\"}]\r"
     ]
    },
    {
     "data": {
      "text/plain": [
       "{u'event': u'failed', u'state': u'complete'}"
      ]
     },
     "execution_count": 48,
     "metadata": {},
     "output_type": "execute_result"
    }
   ],
   "source": [
    "cat_id = results[1]['identifier']\n",
    "record = gbdx.catalog.get(cat_id)\n",
    "centroid = loads(record.get('properties').get('footprintWkt')).centroid\n",
    "lat = centroid.y\n",
    "lon = centroid.x\n",
    "print('lat=%f, lon=%f' % (lat, lon))\n",
    "timestamp = dateutil.parser.parse(record.get('properties').get('timestamp'))\n",
    "dtg = datetime.strftime(timestamp, '%Y-%m-%d-%H-%M')\n",
    "print('dtg=\"%s\"' % dtg)\n",
    "print('lat=\"%s\", lon=\"%s\", dtg=\"%s\"' % (str(lat), str(lon), dtg))\n",
    "\n",
    "clip_task = gbdx.Task('RasterClip_Extents',\n",
    "                      raster = gbdx.catalog.get_data_location(cat_id),\n",
    "                      wkt = geom.wkt)\n",
    "\n",
    "tide_task = gbdx.Task('ShorelineDetectionLS8_beta',\n",
    "                      lat = str(lat),\n",
    "                      lon = str(lon),\n",
    "                      dtg = dtg,\n",
    "                      meta = json.dumps(results[1]),\n",
    "                      image = clip_task.outputs.data)\n",
    "\n",
    "workflow = gbdx.Workflow([clip_task, tide_task])\n",
    "random_str = str(uuid.uuid4())\n",
    "workflow.savedata(tide_task.outputs.vector, location=join('some_random_folder', random_str))\n",
    "workflow.execute()\n",
    "while not workflow.status.get('state') == u'complete':\n",
    "    print(json.dumps(workflow.events), end='\\r')\n",
    "#     print(datetime.now(), workflow.status, end='\\r')\n",
    "    sys.stdout.flush()\n",
    "    time.sleep(5.0)\n",
    "workflow.status"
   ]
  },
  {
   "cell_type": "code",
   "execution_count": 49,
   "metadata": {},
   "outputs": [
    {
     "data": {
      "text/plain": [
       "[{u'event': u'submitted',\n",
       "  u'note': u'',\n",
       "  u'state': u'pending',\n",
       "  u'task': u'RasterClip_Extents_44f628e8',\n",
       "  u'task_id': u'4654247109449272548',\n",
       "  u'timestamp': u'2017-07-31T20:18:11.336338+00:00',\n",
       "  u'when': u'3 minutes ago'},\n",
       " {u'event': u'submitted',\n",
       "  u'note': u'',\n",
       "  u'state': u'pending',\n",
       "  u'task': u'ShorelineDetectionLS8_beta_dc21cab1',\n",
       "  u'task_id': u'4654247109453871651',\n",
       "  u'timestamp': u'2017-07-31T20:18:11.340038+00:00',\n",
       "  u'when': u'3 minutes ago'},\n",
       " {u'event': u'scheduled',\n",
       "  u'note': u'instance_id: i-c92fa74a',\n",
       "  u'state': u'pending',\n",
       "  u'task': u'RasterClip_Extents_44f628e8',\n",
       "  u'task_id': u'4654247109449272548',\n",
       "  u'timestamp': u'2017-07-31T20:18:13.075405+00:00',\n",
       "  u'when': u'3 minutes ago'},\n",
       " {u'event': u'started',\n",
       "  u'note': u'instance_id: i-0331b0774c1df80d8, domain: default',\n",
       "  u'state': u'running',\n",
       "  u'task': u'RasterClip_Extents_44f628e8',\n",
       "  u'task_id': u'4654247109449272548',\n",
       "  u'timestamp': u'2017-07-31T20:18:13.217607+00:00',\n",
       "  u'when': u'3 minutes ago'},\n",
       " {u'event': u'succeeded',\n",
       "  u'note': u'instance_id: i-0331b0774c1df80d8,  Note: ===== Clipped /mnt/work/input/raster/LC82060502017020LGN00_B10.TIF to LC82060502017020LGN00_B10_clip.TIF ======',\n",
       "  u'state': u'complete',\n",
       "  u'task': u'RasterClip_Extents_44f628e8',\n",
       "  u'task_id': u'4654247109449272548',\n",
       "  u'timestamp': u'2017-07-31T20:19:00.450660+00:00',\n",
       "  u'when': u'2 minutes ago'},\n",
       " {u'event': u'scheduled',\n",
       "  u'note': u'instance_id: i-c92fa74a',\n",
       "  u'state': u'pending',\n",
       "  u'task': u'ShorelineDetectionLS8_beta_dc21cab1',\n",
       "  u'task_id': u'4654247109453871651',\n",
       "  u'timestamp': u'2017-07-31T20:19:04.697728+00:00',\n",
       "  u'when': u'2 minutes ago'},\n",
       " {u'event': u'started',\n",
       "  u'note': u'instance_id: i-0724643a2560bf0bf, domain: default',\n",
       "  u'state': u'running',\n",
       "  u'task': u'ShorelineDetectionLS8_beta_dc21cab1',\n",
       "  u'task_id': u'4654247109453871651',\n",
       "  u'timestamp': u'2017-07-31T20:19:04.913560+00:00',\n",
       "  u'when': u'2 minutes ago'},\n",
       " {u'event': u'failed',\n",
       "  u'note': u'instance_id: i-0724643a2560bf0bf,  Note: Docker has nonzero exit code., logs: Traceback (most recent call last):\\n  File \"/shoreline-task.py\", line 305, in <module>\\n    task.invoke()\\n  File \"/shoreline-task.py\", line 276, in invoke\\n    (img1[0], img2[0], vector_dir, minsize, smooth))\\nIndexError: list index out of range\\n',\n",
       "  u'state': u'complete',\n",
       "  u'task': u'ShorelineDetectionLS8_beta_dc21cab1',\n",
       "  u'task_id': u'4654247109453871651',\n",
       "  u'timestamp': u'2017-07-31T20:20:34.907573+00:00',\n",
       "  u'when': u'a minute ago'}]"
      ]
     },
     "execution_count": 49,
     "metadata": {},
     "output_type": "execute_result"
    }
   ],
   "source": [
    "workflow.events"
   ]
  },
  {
   "cell_type": "code",
   "execution_count": null,
   "metadata": {
    "collapsed": true
   },
   "outputs": [],
   "source": []
  }
 ],
 "metadata": {
  "kernelspec": {
   "display_name": "Python 2",
   "language": "python",
   "name": "python2"
  },
  "language_info": {
   "codemirror_mode": {
    "name": "ipython",
    "version": 2
   },
   "file_extension": ".py",
   "mimetype": "text/x-python",
   "name": "python",
   "nbconvert_exporter": "python",
   "pygments_lexer": "ipython2",
   "version": "2.7.13"
  }
 },
 "nbformat": 4,
 "nbformat_minor": 2
}
